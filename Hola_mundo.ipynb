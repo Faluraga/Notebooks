{
 "cells": [
  {
   "cell_type": "markdown",
   "id": "eaeb60b6",
   "metadata": {},
   "source": [
    "# Repaso Markdown"
   ]
  },
  {
   "cell_type": "markdown",
   "id": "b26f94f7",
   "metadata": {},
   "source": [
    "# Títulos \n",
    "Todos los títulos empiezan con signo ```#```\n",
    "    \n",
    "   # Título 1\n",
    "   ## Título 2\n",
    "   ### Título 3\n",
    "   #### Título 4\n",
    "   ##### Título 5\n",
    "   ###### Título 6"
   ]
  },
  {
   "cell_type": "markdown",
   "id": "4272abff",
   "metadata": {},
   "source": [
    "# Blockquote\n",
    "\n",
    "Los _blockquotes_ se hacen con el signo ```>```\n",
    "\n",
    "> # título del blockquote\n",
    "> Este es el párrafo del blockquote\n",
    "    >> Este es un blockquote anidado\n",
    "    >> Tenemos más texto\n",
    "    > ## Segunda Parte\n",
    "    > Más texto"
   ]
  },
  {
   "cell_type": "markdown",
   "id": "c42b1db4",
   "metadata": {},
   "source": [
    "# Énfasis\n",
    "\n",
    "    \n",
    "  Se pueden poner **negrillas** con doble carácter ```**``` o un ```__```\n",
    "  se  pueden poner *italicas*  con solo caracter  ```*``` o un ```_```\n",
    "  Se hacer ~~tachado~~ utilizando doble virgulilla ```~~```\n",
    "    "
   ]
  },
  {
   "cell_type": "markdown",
   "id": "a392cc9b",
   "metadata": {},
   "source": [
    "## Ordenadas\n",
    "\n",
    " \n",
    "    1. Colores\n",
    "      1. Rojo\n",
    "      2. Azul\n",
    "      3. Amarillo\n",
    "    2. Sabores \n",
    "      1. Salado\\n\n",
    "      2. Dulce\\n\n",
    "\n",
    "## No ordenadas\n",
    "\n",
    "    \n",
    "   * Animales\n",
    "      - Perro\n",
    "      - Gato\n",
    "      - Caiman\n",
    "   * Frutas\n",
    "     - Citricos\n",
    "        + Limon\n",
    "        + Naranja\n",
    "        + Toronja\n",
    "     - Manzana\n",
    "     - Pera"
   ]
  },
  {
   "cell_type": "markdown",
   "id": "10f5b903",
   "metadata": {},
   "source": [
    "# Enlaces\n",
    "    \n",
    "   Un enlace siempre la forma ```[nombre]()\\\"tooltip\\\"```\n",
    "   \n",
    "   ### Libros\n",
    "    \n",
    "   * [Git Book](https://git-scm.com/book/en/v2) 'Offical Books Git'\n",
    "   \n",
    "   # Imágenes\n",
    "    \n",
    "   Las imagenes tienen la forma ```![](url)```\n",
    "   ![Git](https://git-scm.com/images/logo@2x.png)"
   ]
  },
  {
   "cell_type": "code",
   "execution_count": null,
   "id": "9d6f4599",
   "metadata": {},
   "outputs": [],
   "source": [
    "%%HTML\n",
    "<iframe width=\\\"560\\\" height=\\\"315\\\" src=\\\"https://www.youtube.com/embed/ze8ycxc1UzE\\\" title=\\\"YouTube video player\\\" frameborder=\\\"0\\\" allow=\\\"accelerometer; autoplay; clipboard-write; encrypted-media; gyroscope; picture-in-picture\\\" allowfullscreen></iframe>\n"
   ]
  },
  {
   "cell_type": "markdown",
   "id": "5dc0f706",
   "metadata": {},
   "source": [
    "# Código\n",
    "\n",
    "   Utilizar 4 espacios:\n",
    "        frutas = ['pera', 'manzana', 'piña']\n",
    "        for fruta in frutas:\n",
    "            print(fruta)\n",
    "    En un bloque de codigo HTML, los TAGs HTML no tienen efecto:\n",
    "        <html>\n",
    "            <head>\n",
    "                <title>Tituloo</title>\n",
    "            </head>\n",
    "            <body>\n",
    "            </body>\n",
    "        </html>\n",
    "        \n",
    "   Tambien se crea un bloque de código con triple comilla invertida y la indico el lenguaje:\n",
    "    ```python\n",
    "    frutas = ['pera', 'manzana', 'piña']\n",
    "        for fruta in frutas:\n",
    "            print(fruta)\n",
    "    ```\n",
    "    Ejemplo con HTML:\n",
    "    ```html\n",
    "    <html>\n",
    "        <head>\n",
    "            <title>Tituloo</title>\n",
    "        </head>\n",
    "        <body>\n",
    "        </body>\n",
    "    </html>\n",
    "    ```\n",
    "    Ejemplo con Javascript:\n",
    "    \"\\n\",\n",
    "    ```Java\n",
    "    Persona persona = new Persona();\n",
    "    Integer num = 1\n",
    "    System.out.println(num);\n",
    "    ```"
   ]
  },
  {
   "cell_type": "markdown",
   "id": "d5f87c80",
   "metadata": {},
   "source": [
    "# Tablas\n",
    "\n",
    "   |Cedula|Nombre|Ciudad|\n",
    "   |------|------|------|\n",
    "   |113243234|Juana|Cali|\n",
    "   |123139232|Angie|Cartago|\n",
    "   |123287632|Angie|Bogota|"
   ]
  },
  {
   "cell_type": "markdown",
   "id": "4bff4a48",
   "metadata": {},
   "source": [
    "# Comandos\n",
    "\n",
    "   Para ejecutar comando se debe utilizar:\n",
    "    * Se utiliza para correr el comando en un proceso aparte del actual de Jupyter Notebook   ```!comando``` \n",
    "    * Se utiliza para correr el comando en el mismo proceso del Jupyter Notebook  ```%comando```"
   ]
  },
  {
   "cell_type": "code",
   "execution_count": null,
   "id": "b9c43fbb",
   "metadata": {},
   "outputs": [],
   "source": [
    "!ls -l"
   ]
  },
  {
   "cell_type": "code",
   "execution_count": null,
   "id": "8e609730",
   "metadata": {},
   "outputs": [],
   "source": [
    "%ls -l\n"
   ]
  },
  {
   "cell_type": "code",
   "execution_count": null,
   "id": "cc8ab828",
   "metadata": {},
   "outputs": [],
   "source": [
    "%run hola.py\n"
   ]
  },
  {
   "cell_type": "code",
   "execution_count": null,
   "id": "87261957",
   "metadata": {},
   "outputs": [],
   "source": [
    "%lsmagic\n"
   ]
  },
  {
   "cell_type": "code",
   "execution_count": null,
   "id": "cf56da10",
   "metadata": {},
   "outputs": [],
   "source": []
  }
 ],
 "metadata": {
  "kernelspec": {
   "display_name": "Python 3",
   "language": "python",
   "name": "python3"
  },
  "language_info": {
   "codemirror_mode": {
    "name": "ipython",
    "version": 3
   },
   "file_extension": ".py",
   "mimetype": "text/x-python",
   "name": "python",
   "nbconvert_exporter": "python",
   "pygments_lexer": "ipython3",
   "version": "3.8.8"
  }
 },
 "nbformat": 4,
 "nbformat_minor": 5
}
