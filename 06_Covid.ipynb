{
 "cells": [
  {
   "cell_type": "markdown",
   "id": "b4058025",
   "metadata": {},
   "source": [
    "# Analisis Casos COVID-19 en Colombia "
   ]
  },
  {
   "cell_type": "code",
   "execution_count": null,
   "id": "35e9df9a",
   "metadata": {},
   "outputs": [],
   "source": [
    "# Cargar los modulos mas comunes, con sus alias \n",
    "import numpy as np\n",
    "import pandas as pd \n",
    "\n",
    "import matplotlib.pyplot as plt\n",
    "%matplotlib inline "
   ]
  },
  {
   "cell_type": "code",
   "execution_count": null,
   "id": "efde4e64",
   "metadata": {},
   "outputs": [],
   "source": [
    "#Cargar el CSV desde datos.gov.co\n",
    "covid = pd.read_csv('https://www.datos.gov.co/resource/gt2j-8ykr.csv')"
   ]
  },
  {
   "cell_type": "code",
   "execution_count": null,
   "id": "4bae70d9",
   "metadata": {},
   "outputs": [],
   "source": [
    "#revisa el dataframe\n",
    "covid.info()"
   ]
  },
  {
   "cell_type": "code",
   "execution_count": null,
   "id": "0929f436",
   "metadata": {},
   "outputs": [],
   "source": [
    "covid.columns"
   ]
  },
  {
   "cell_type": "code",
   "execution_count": null,
   "id": "c0947e9d",
   "metadata": {},
   "outputs": [],
   "source": [
    "covid.shape"
   ]
  },
  {
   "cell_type": "code",
   "execution_count": null,
   "id": "bc3f9b43",
   "metadata": {},
   "outputs": [],
   "source": [
    "covid.head()"
   ]
  },
  {
   "cell_type": "code",
   "execution_count": null,
   "id": "665457b4",
   "metadata": {},
   "outputs": [],
   "source": [
    "covid['edad'].describe()"
   ]
  },
  {
   "cell_type": "code",
   "execution_count": null,
   "id": "d3c51467",
   "metadata": {},
   "outputs": [],
   "source": [
    "# seleccionar solo algunas columnas de interes \n",
    "covid['edad']"
   ]
  },
  {
   "cell_type": "code",
   "execution_count": null,
   "id": "0571cdad",
   "metadata": {},
   "outputs": [],
   "source": [
    "#seleccionar solo algunas columnas de interes\n",
    "covid[['ciudad_municipio', 'sexo', 'edad']]"
   ]
  },
  {
   "cell_type": "code",
   "execution_count": null,
   "id": "e0425382",
   "metadata": {},
   "outputs": [],
   "source": [
    "#ordenar por dos columnas\n",
    "covid.sort_values(by=['ciudad_municipio_nom', 'edad'], ascending=True)"
   ]
  },
  {
   "cell_type": "code",
   "execution_count": null,
   "id": "1fcf1c28",
   "metadata": {},
   "outputs": [],
   "source": [
    "#cuántas personas con sus edades, hay infectadas por municipio?\n",
    "c2 = covid[['ciudad_municipio_nom', 'sexo', 'edad']]\n",
    "c2.groupby(['ciudad_municipio_nom']).describe()"
   ]
  },
  {
   "cell_type": "code",
   "execution_count": null,
   "id": "5b9a3bb2",
   "metadata": {},
   "outputs": [],
   "source": [
    "#cuántas personas con su sexo, hay infectadas por municipio?\n",
    "c2 = covid[['ciudad_municipio_nom', 'sexo', 'edad']]\n",
    "c2.groupby(['ciudad_municipio_nom'])['sexo'].describe()"
   ]
  },
  {
   "cell_type": "code",
   "execution_count": null,
   "id": "a0517f7c",
   "metadata": {},
   "outputs": [],
   "source": [
    "#cuántas personas con sus edades, hay infectadas por municipio?\n",
    "c2.groupby(['ciudad_municipio_nom'])[['edad']].describe()"
   ]
  },
  {
   "cell_type": "code",
   "execution_count": null,
   "id": "5c5b1ed7",
   "metadata": {},
   "outputs": [],
   "source": [
    "cd = covid.groupby(['departamento_nom'])[['edad']].describe()\n",
    "cd"
   ]
  },
  {
   "cell_type": "code",
   "execution_count": null,
   "id": "c081ced3",
   "metadata": {},
   "outputs": [],
   "source": [
    "cd.shape"
   ]
  },
  {
   "cell_type": "code",
   "execution_count": null,
   "id": "c30fe83b",
   "metadata": {},
   "outputs": [],
   "source": [
    "cd.columns"
   ]
  },
  {
   "cell_type": "code",
   "execution_count": null,
   "id": "aec29716",
   "metadata": {},
   "outputs": [],
   "source": [
    "cd['count']"
   ]
  },
  {
   "cell_type": "code",
   "execution_count": null,
   "id": "e8419a83",
   "metadata": {},
   "outputs": [],
   "source": [
    "#graficar la cantidad de casos por departamento\n",
    "fig, ax= plt.subplots(figsize=(16,6))\n",
    "#https://matplotlib.org/stable/gallery/color/named_colors.html\n",
    "ax.bar(x=cd.index, height=cd['count'], color='darkred', alpha=0.7)\n",
    "#https://matplotlib.org/stable/api/text_api.html#matplotlib.text.Text\n",
    "plt.xticks(rotation=45, ha='right')\n",
    "plt.show()"
   ]
  },
  {
   "cell_type": "code",
   "execution_count": null,
   "id": "715d4a30",
   "metadata": {},
   "outputs": [],
   "source": [
    "#graficar promedio de edad por departamento\n",
    "fig, ax= plt.subplots(figsize=(16,6))\n",
    "#https://matplotlib.org/stable/gallery/color/named_colors.html\n",
    "ax.bar(x=cd.index, height=cd['mean'], color='blueviolet', alpha=0.7)\n",
    "#https://matplotlib.org/stable/api/text_api.html#matplotlib.text.Text\n",
    "plt.xticks(rotation=45, ha='right')\n",
    "plt.show()"
   ]
  },
  {
   "cell_type": "code",
   "execution_count": null,
   "id": "76cc2887",
   "metadata": {},
   "outputs": [],
   "source": [
    "covid.columns"
   ]
  },
  {
   "cell_type": "code",
   "execution_count": null,
   "id": "7a3b07c2",
   "metadata": {},
   "outputs": [],
   "source": [
    "for fecha in ['fecha reporte web','Fecha de notificación','Fecha de inicio de síntomas','Fecha de muerte', 'Fecha de diagnóstico', 'Fecha de recuperación']:\n",
    "    covid[fecha]= pd.to_datetime(covid[fecha],format='%d/%m/%Y %H:%M:%S')"
   ]
  },
  {
   "cell_type": "code",
   "execution_count": null,
   "id": "230b79b5",
   "metadata": {},
   "outputs": [],
   "source": [
    "#acumulado de casos por dia\n",
    "cf = covid.groupby(['fecha_diagnostico'])[['edad']].describe()\n",
    "cf.columns = cf.columns.droplevel(0)\n",
    "cf"
   ]
  },
  {
   "cell_type": "code",
   "execution_count": null,
   "id": "96637a8a",
   "metadata": {},
   "outputs": [],
   "source": [
    "# Total de pacientes diagnosticados cada día\n",
    "fig, ax = plt.subplots(figsize=(16,6))\n",
    "ax.plot(cf.index, cf['count'], 'b:')\n",
    "ax.set(title='Total de pacientes diagnosticados cada día', xlabel='Fechas', ylabel='Número de Pacientes')\n",
    "plt.xticks(rotation=45, ha='right')\n",
    "plt.show()"
   ]
  },
  {
   "cell_type": "code",
   "execution_count": null,
   "id": "595b1c38",
   "metadata": {},
   "outputs": [],
   "source": [
    "cf['acumulados'] = cf['count'].cumsum()"
   ]
  },
  {
   "cell_type": "code",
   "execution_count": null,
   "id": "10e75225",
   "metadata": {},
   "outputs": [],
   "source": [
    "fig, ax = plt.subplots(figsize=(16,6))\n",
    "ax.plot(cf.index, cf['acumulados'], 'g-.')\n",
    "ax.set(title='PACIENTES ACUMULADOS POR FECHA', xlabel='Fechas', ylabel='Acumulado Pacientes')\n",
    "#plt.xticks(rotation=45, ha='right')\n",
    "ax.grid()\n",
    "plt.show()"
   ]
  }
 ],
 "metadata": {
  "kernelspec": {
   "display_name": "Python 3",
   "language": "python",
   "name": "python3"
  },
  "language_info": {
   "codemirror_mode": {
    "name": "ipython",
    "version": 3
   },
   "file_extension": ".py",
   "mimetype": "text/x-python",
   "name": "python",
   "nbconvert_exporter": "python",
   "pygments_lexer": "ipython3",
   "version": "3.8.10"
  }
 },
 "nbformat": 4,
 "nbformat_minor": 5
}
